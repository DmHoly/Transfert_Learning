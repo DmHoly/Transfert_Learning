{
 "cells": [
  {
   "cell_type": "code",
   "execution_count": 58,
   "metadata": {},
   "outputs": [],
   "source": [
    "import torch\n",
    "import torch.nn as nn\n",
    "import torch.optim as optim\n",
    "from sklearn.datasets import make_regression\n",
    "from sklearn.model_selection import train_test_split\n",
    "from sklearn.preprocessing import StandardScaler\n",
    "from skopt import gp_minimize\n",
    "from skopt.space import Real, Integer\n",
    "from skopt.utils import use_named_args\n",
    "import numpy as np\n",
    "\n",
    "# Générer des données de régression synthétiques\n",
    "X, y = make_regression(n_samples=1000, n_features=20, noise=0.1, random_state=42)\n",
    "#norm X and y \n",
    "X = X / np.max(X, axis=0)\n",
    "y = y / np.max(y)\n",
    "\n",
    "# Séparer les données en ensembles d'entraînement, de validation et de test\n",
    "X_train, X_temp, y_train, y_temp = train_test_split(X, y, test_size=0.4, random_state=42)\n",
    "X_val, X_test, y_val, y_test = train_test_split(X_temp, y_temp, test_size=0.5, random_state=42)\n",
    "\n",
    "\n",
    "# Convertir les données en tenseurs PyTorch\n",
    "X_train = torch.tensor(X_train, dtype=torch.float32)\n",
    "X_val = torch.tensor(X_val, dtype=torch.float32)\n",
    "X_test = torch.tensor(X_test, dtype=torch.float32)\n",
    "y_train = torch.tensor(y_train, dtype=torch.float32).view(-1, 1)\n",
    "y_val = torch.tensor(y_val, dtype=torch.float32).view(-1, 1)\n",
    "y_test = torch.tensor(y_test, dtype=torch.float32).view(-1, 1)\n",
    "\n",
    "# Définir le modèle de régression\n",
    "class RegressionModel(nn.Module):\n",
    "    def __init__(self, input_dim, hidden_dim):\n",
    "        super(RegressionModel, self).__init__()\n",
    "        self.linear1 = nn.Linear(input_dim, hidden_dim)\n",
    "        self.relu = nn.ReLU()\n",
    "        self.linear2 = nn.Linear(hidden_dim, 1)\n",
    "    \n",
    "    def forward(self, x):\n",
    "        out = self.linear1(x)\n",
    "        out = self.relu(out)\n",
    "        out = self.linear2(out)\n",
    "        return out\n",
    "\n",
    "input_dim = X_train.shape[1]\n",
    "\n",
    "# Définir la fonction d'objectif pour l'optimisation bayésienne\n",
    "def objective(params):\n",
    "    hidden_dim, lr = params\n",
    "    model = RegressionModel(input_dim, hidden_dim)\n",
    "    criterion = nn.MSELoss()\n",
    "    optimizer = optim.SGD(model.parameters(), lr=lr)\n",
    "    \n",
    "    num_epochs = 100\n",
    "    for epoch in range(num_epochs):\n",
    "        model.train()\n",
    "        optimizer.zero_grad()\n",
    "        outputs = model(X_train)\n",
    "        loss = criterion(outputs, y_train)\n",
    "        loss.backward()\n",
    "        optimizer.step()\n",
    "    \n",
    "    model.eval()\n",
    "    with torch.no_grad():\n",
    "        predictions = model(X_val)\n",
    "        val_loss = criterion(predictions, y_val)\n",
    "    \n",
    "    return val_loss.item()\n",
    "\n",
    "# Définir l'espace de recherche pour les hyperparamètres\n",
    "param_space = [\n",
    "    Integer(10, 100, name='hidden_dim'),\n",
    "    Real(1e-4, 1e-1, prior='log-uniform', name='lr')\n",
    "]\n",
    "\n",
    "# Utiliser skopt pour optimiser les hyperparamètres\n",
    "res = gp_minimize(objective, param_space, n_calls=20, random_state=42)"
   ]
  },
  {
   "cell_type": "code",
   "execution_count": 59,
   "metadata": {},
   "outputs": [],
   "source": [
    "\n"
   ]
  },
  {
   "cell_type": "code",
   "execution_count": 67,
   "metadata": {},
   "outputs": [
    {
     "name": "stdout",
     "output_type": "stream",
     "text": [
      "Best parameters: [99, 0.0884859675380457]\n",
      "Best validation loss: 0.007810128852725029\n",
      "Final Test Loss: 0.0013\n",
      "Final R² score test: 0.9892\n"
     ]
    }
   ],
   "source": [
    "\n",
    "print(f\"Best parameters: {res.x}\")\n",
    "print(f\"Best validation loss: {res.fun}\")\n",
    "\n",
    "# Entraîner et évaluer le modèle avec les meilleurs hyperparamètres\n",
    "best_hidden_dim, best_lr = res.x\n",
    "best_model = RegressionModel(input_dim, best_hidden_dim)\n",
    "criterion = nn.MSELoss()\n",
    "optimizer = optim.SGD(best_model.parameters(), lr=best_lr)\n",
    "\n",
    "num_epochs = 1000\n",
    "for epoch in range(num_epochs):\n",
    "    best_model.train()\n",
    "    optimizer.zero_grad()\n",
    "    outputs = best_model(X_train)\n",
    "    loss = criterion(outputs, y_train)\n",
    "    loss.backward()\n",
    "    optimizer.step()\n",
    "\n",
    "best_model.eval()\n",
    "with torch.no_grad():\n",
    "    predictions = best_model(X_test)\n",
    "    test_loss = criterion(predictions, y_test)\n",
    "    print(f'Final Test Loss: {test_loss.item():.4f}')\n",
    "    "
   ]
  },
  {
   "cell_type": "code",
   "execution_count": 63,
   "metadata": {},
   "outputs": [],
   "source": [
    "#train model with basic hyperparameters\n",
    "basic_model = RegressionModel(input_dim, 50)\n",
    "criterion = nn.MSELoss()\n",
    "optimizer = optim.SGD(basic_model.parameters(), lr=0.01)\n",
    "\n",
    "num_epochs = 1000\n",
    "for epoch in range(num_epochs):\n",
    "    basic_model.train()\n",
    "    optimizer.zero_grad()\n",
    "    outputs = basic_model(X_train)\n",
    "    loss = criterion(outputs, y_train)\n",
    "    loss.backward()\n",
    "    optimizer.step()\n",
    "    "
   ]
  },
  {
   "cell_type": "code",
   "execution_count": 70,
   "metadata": {},
   "outputs": [
    {
     "name": "stdout",
     "output_type": "stream",
     "text": [
      "Final R² score test: 0.9892\n",
      "Final R² score test: 0.9892\n"
     ]
    },
    {
     "data": {
      "text/plain": [
       "<matplotlib.legend.Legend at 0x1d11e87e310>"
      ]
     },
     "execution_count": 70,
     "metadata": {},
     "output_type": "execute_result"
    },
    {
     "data": {
      "image/png": "[encoded data removed]",
      "text/plain": [
       "<Figure size 432x288 with 1 Axes>"
      ]
     },
     "metadata": {
      "needs_background": "light"
     },
     "output_type": "display_data"
    }
   ],
   "source": [
    "# check the best model used as evaluation\n",
    "#pass the model in eval mode\n",
    "import matplotlib.pyplot as plt\n",
    "best_model.eval()\n",
    "with torch.no_grad():\n",
    "    predictions = best_model(X_test)\n",
    "    test_loss = criterion(predictions, y_test)\n",
    "    #calculate the final R² score test \n",
    "    print(f'Final R² score test: {1 - test_loss.item()/torch.var(y_test).item():.4f}')\n",
    "\n",
    "basic_model.eval()\n",
    "with torch.no_grad():\n",
    "    predictions_basic = basic_model(X_test)\n",
    "    test_loss = criterion(predictions, y_test)\n",
    "    #print the final R² score test\n",
    "    print(f'Final R² score test: {1 - test_loss.item()/torch.var(y_test).item():.4f}')\n",
    "\n",
    "fig, ax = plt.subplots()\n",
    "error = y_test.numpy() - predictions.numpy()\n",
    "error_basic = y_test.numpy() - predictions_basic.numpy()\n",
    "_ = ax.hist(error, bins=50, alpha=0.5, label='Best Model')\n",
    "_ = ax.hist(error_basic, bins=50, alpha=0.5, label='Basic Model')\n",
    "ax.legend()"
   ]
  },
  {
   "cell_type": "code",
   "execution_count": 71,
   "metadata": {},
   "outputs": [
    {
     "data": {
      "image/png": "[encoded data removed]",
      "text/plain": [
       "<Figure size 432x288 with 1 Axes>"
      ]
     },
     "metadata": {
      "needs_background": "light"
     },
     "output_type": "display_data"
    }
   ],
   "source": [
    "fig, ax = plt.subplots()\n",
    "_ = ax.scatter(y_test.numpy(), predictions.numpy(), alpha=0.5, label='Best Model')\n",
    "_ = ax.scatter(y_test.numpy(), predictions_basic.numpy(), alpha=0.5, label='Basic Model')"
   ]
  },
  {
   "cell_type": "code",
   "execution_count": null,
   "metadata": {},
   "outputs": [],
   "source": []
  }
 ],
 "metadata": {
  "kernelspec": {
   "display_name": "Python 3",
   "language": "python",
   "name": "python3"
  },
  "language_info": {
   "codemirror_mode": {
    "name": "ipython",
    "version": 3
   },
   "file_extension": ".py",
   "mimetype": "text/x-python",
   "name": "python",
   "nbconvert_exporter": "python",
   "pygments_lexer": "ipython3",
   "version": "3.9.0"
  }
 },
 "nbformat": 4,
 "nbformat_minor": 2
}
